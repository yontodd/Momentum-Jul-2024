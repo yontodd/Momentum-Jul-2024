{
 "cells": [
  {
   "cell_type": "markdown",
   "metadata": {},
   "source": [
    "### Load S&P 500 component and SPMO data:"
   ]
  },
  {
   "cell_type": "code",
   "execution_count": 35,
   "metadata": {},
   "outputs": [],
   "source": [
    "import pandas as pd\n",
    "import numpy as np\n",
    "from pypfopt import expected_returns, risk_models, EfficientFrontier"
   ]
  },
  {
   "cell_type": "markdown",
   "metadata": {},
   "source": [
    "### Load market data and SPMO data:"
   ]
  },
  {
   "cell_type": "code",
   "execution_count": 39,
   "metadata": {},
   "outputs": [],
   "source": [
    "# Load data from CSV files\n",
    "spx_data = pd.read_csv('SPX_data.csv', index_col='date', parse_dates=True)\n",
    "spmo_data = pd.read_csv('SPMO_data.csv', parse_dates=True)\n",
    "\n",
    "# Process SPMO data\n",
    "spmo_data['date'] = pd.to_datetime(spmo_data['date'])\n",
    "spmo_data = spmo_data.set_index('date')\n",
    "spmo_data = spmo_data[spmo_data['Ticker'] == 'SPMO-USA']['Price']\n",
    "spmo_data.name = 'SPMO'\n",
    "\n",
    "# Combine SPX and SPMO data\n",
    "combined_df = pd.concat([spx_data, spmo_data], axis=1)\n",
    "\n",
    "# Ensure all dates match by dropping any rows with missing data\n",
    "combined_df = combined_df.dropna()\n",
    "\n",
    "# Split the combined dataframe back into market returns and SPMO returns\n",
    "aligned_market_returns = combined_df.drop('SPMO', axis=1)\n",
    "aligned_spmo_returns = combined_df['SPMO']"
   ]
  },
  {
   "cell_type": "code",
   "execution_count": 40,
   "metadata": {},
   "outputs": [],
   "source": [
    "# Calculate 12-month returns for market and SPMO\n",
    "aligned_market_returns_12m = aligned_market_returns.pct_change(periods=12).dropna()\n",
    "aligned_spmo_returns_12m = aligned_spmo_returns.pct_change(periods=12).dropna()\n",
    "\n",
    "# Ensure both dataframes have the same index after calculating returns\n",
    "common_index = aligned_market_returns_12m.index.intersection(aligned_spmo_returns_12m.index)\n",
    "aligned_market_returns_12m = aligned_market_returns_12m.loc[common_index]\n",
    "aligned_spmo_returns_12m = aligned_spmo_returns_12m.loc[common_index]"
   ]
  },
  {
   "cell_type": "code",
   "execution_count": 41,
   "metadata": {},
   "outputs": [],
   "source": [
    "# Ensure prices are sorted by date\n",
    "market_data_pivot = market_data_pivot.sort_index()\n",
    "\n",
    "# Function to calculate 12-month returns excluding the most recent month\n",
    "def calculate_12_month_returns(prices):\n",
    "    if len(prices) < 13:\n",
    "        return pd.Series(dtype=float)\n",
    "    return (prices.shift(1) / prices.shift(13)) - 1\n",
    "\n",
    "# Calculate 12-month returns for market data\n",
    "market_returns_12m = market_data_pivot.apply(calculate_12_month_returns, axis=0)\n",
    "\n",
    "# Drop rows where all columns have NaN values\n",
    "market_returns_12m = market_returns_12m.dropna(how='all')\n",
    "\n",
    "# Calculate 12-month returns for SPMO\n",
    "spmo_returns_12m = calculate_12_month_returns(spmo_prices).dropna()"
   ]
  },
  {
   "cell_type": "code",
   "execution_count": 42,
   "metadata": {},
   "outputs": [
    {
     "name": "stdout",
     "output_type": "stream",
     "text": [
      "Market Returns Shape: (249, 503)\n",
      "SPMO Returns Shape: (1030,)\n"
     ]
    }
   ],
   "source": [
    "print(f\"Market Returns Shape: {market_returns_12m.shape}\")\n",
    "print(f\"SPMO Returns Shape: {spmo_returns_12m.shape}\")\n",
    "\n",
    "# Print the first few rows of each returns dataframe to verify\n",
    "#print(market_returns_12m.head())\n",
    "#print(spmo_returns_12m.head())"
   ]
  },
  {
   "cell_type": "code",
   "execution_count": 43,
   "metadata": {},
   "outputs": [
    {
     "name": "stdout",
     "output_type": "stream",
     "text": [
      "Original Market Data Length: 262\n",
      "Calculated Returns Length: 249\n",
      "Ticker       A-USA  AAL-USA  AAPL-USA  ABBV-USA  ABNB-USA\n",
      "date                                                     \n",
      "2023-07-31  121.77    16.75   196.450    149.58    152.19\n",
      "2023-08-01  122.48    16.23   195.605    148.54    148.91\n",
      "2023-08-02  127.71    15.95   192.580    149.38    144.56\n",
      "2023-08-03  125.05    15.98   191.170    149.05    140.88\n",
      "2023-08-04  126.30    15.84   181.990    147.73    140.17\n",
      "Ticker         A-USA   AAL-USA  AAPL-USA  ABBV-USA  ABNB-USA\n",
      "date                                                        \n",
      "2023-08-17 -0.003367 -0.078209 -0.101196  0.013170 -0.153492\n",
      "2023-08-18 -0.013308 -0.072705 -0.110452  0.009964 -0.140488\n",
      "2023-08-21 -0.066244 -0.057053 -0.093935  0.005088 -0.134892\n",
      "2023-08-22 -0.049500 -0.051314 -0.080190  0.007447 -0.119818\n",
      "2023-08-23 -0.068567 -0.063763 -0.026155  0.003452 -0.093387\n"
     ]
    }
   ],
   "source": [
    "# Print the length of the DataFrame before and after calculating returns\n",
    "print(f\"Original Market Data Length: {len(market_data_pivot)}\")\n",
    "print(f\"Calculated Returns Length: {len(market_returns_12m)}\")\n",
    "\n",
    "# Print out specific columns or rows to debug\n",
    "print(market_data_pivot.iloc[:, :5].head())  # Print the first 5 columns\n",
    "print(market_returns_12m.iloc[:, :5].head())  # Print the first 5 columns of returns"
   ]
  },
  {
   "cell_type": "code",
   "execution_count": 44,
   "metadata": {},
   "outputs": [
    {
     "name": "stdout",
     "output_type": "stream",
     "text": [
      "Market Data Dates: 2023-07-31 00:00:00 to 2024-07-30 00:00:00\n",
      "Market Returns Dates: 2023-08-17 00:00:00 to 2024-07-30 00:00:00\n",
      "Missing Dates: DatetimeIndex(['2023-07-31', '2023-08-01', '2023-08-02', '2023-08-03',\n",
      "               '2023-08-04', '2023-08-07', '2023-08-08', '2023-08-09',\n",
      "               '2023-08-10', '2023-08-11', '2023-08-14', '2023-08-15',\n",
      "               '2023-08-16'],\n",
      "              dtype='datetime64[ns]', name='date', freq=None)\n"
     ]
    }
   ],
   "source": [
    "# Verify the dates before and after processing\n",
    "print(f\"Market Data Dates: {market_data_pivot.index.min()} to {market_data_pivot.index.max()}\")\n",
    "print(f\"Market Returns Dates: {market_returns_12m.index.min()} to {market_returns_12m.index.max()}\")\n",
    "\n",
    "# Check for missing dates\n",
    "missing_dates = market_data_pivot.index.difference(market_returns_12m.index)\n",
    "print(f\"Missing Dates: {missing_dates}\")"
   ]
  },
  {
   "cell_type": "code",
   "execution_count": 32,
   "metadata": {},
   "outputs": [
    {
     "name": "stdout",
     "output_type": "stream",
     "text": [
      "Aligned Market Returns Shape: (249, 503)\n",
      "Aligned SPMO Returns Shape: (249,)\n",
      "Ticker         A-USA   AAL-USA  AAPL-USA  ABBV-USA  ABNB-USA   ABT-USA  \\\n",
      "date                                                                     \n",
      "2023-08-17 -0.003367 -0.078209 -0.101196  0.013170 -0.153492 -0.061080   \n",
      "2023-08-18 -0.013308 -0.072705 -0.110452  0.009964 -0.140488 -0.050665   \n",
      "2023-08-21 -0.066244 -0.057053 -0.093935  0.005088 -0.134892 -0.045203   \n",
      "2023-08-22 -0.049500 -0.051314 -0.080190  0.007447 -0.119818 -0.034127   \n",
      "2023-08-23 -0.068567 -0.063763 -0.026155  0.003452 -0.093387 -0.023223   \n",
      "\n",
      "Ticker      ACGL-USA   ACN-USA  ADBE-USA   ADI-USA  ...   WTW-USA    WY-USA  \\\n",
      "date                                                ...                       \n",
      "2023-08-17 -0.009525 -0.027533 -0.058004 -0.112063  ... -0.070459 -0.048738   \n",
      "2023-08-18 -0.036446 -0.047761 -0.068166 -0.120263  ... -0.076199 -0.053282   \n",
      "2023-08-21 -0.027404 -0.046699 -0.041807 -0.086823  ... -0.066710 -0.027108   \n",
      "2023-08-22 -0.031529 -0.033488 -0.006282 -0.074521  ... -0.060199 -0.021142   \n",
      "2023-08-23 -0.028024 -0.009936 -0.014045 -0.062065  ... -0.057671 -0.005779   \n",
      "\n",
      "Ticker      WYNN-USA   XEL-USA   XOM-USA   XYL-USA   YUM-USA   ZBH-USA  \\\n",
      "date                                                                     \n",
      "2023-08-17 -0.130024 -0.068548 -0.008392 -0.112905 -0.044381 -0.124285   \n",
      "2023-08-18 -0.131482 -0.074463  0.016695 -0.110962 -0.047228 -0.096999   \n",
      "2023-08-21 -0.107265 -0.074587  0.045113 -0.112598 -0.043556 -0.071662   \n",
      "2023-08-22 -0.108039 -0.054795  0.014843 -0.078321 -0.050288 -0.043247   \n",
      "2023-08-23 -0.087733 -0.040404  0.006330 -0.058389 -0.036472 -0.083676   \n",
      "\n",
      "Ticker      ZBRA-USA   ZTS-USA  \n",
      "date                            \n",
      "2023-08-17 -0.136446 -0.009676  \n",
      "2023-08-18  0.044197 -0.014770  \n",
      "2023-08-21  0.127846 -0.002363  \n",
      "2023-08-22  0.072050 -0.000387  \n",
      "2023-08-23  0.071397  0.017858  \n",
      "\n",
      "[5 rows x 503 columns]\n",
      "date\n",
      "2023-08-17    0.018372\n",
      "2023-08-18    0.015890\n",
      "2023-08-21    0.023330\n",
      "2023-08-22    0.023847\n",
      "2023-08-23    0.023055\n",
      "Name: Price, dtype: float64\n"
     ]
    }
   ],
   "source": [
    "# Ensure indexes are consistent\n",
    "common_dates = market_returns_12m.index.intersection(spmo_returns_12m.index)\n",
    "aligned_market_returns_12m = market_returns_12m.loc[common_dates]\n",
    "aligned_spmo_returns_12m = spmo_returns_12m.loc[common_dates]\n",
    "\n",
    "# Check the aligned dataframes\n",
    "print(f\"Aligned Market Returns Shape: {aligned_market_returns_12m.shape}\")\n",
    "print(f\"Aligned SPMO Returns Shape: {aligned_spmo_returns_12m.shape}\")\n",
    "print(aligned_market_returns_12m.head())\n",
    "print(aligned_spmo_returns_12m.head())"
   ]
  },
  {
   "cell_type": "code",
   "execution_count": 47,
   "metadata": {},
   "outputs": [],
   "source": [
    "# Convert to numeric, coercing errors to NaN\n",
    "aligned_market_returns_12m = aligned_market_returns_12m.apply(pd.to_numeric, errors='coerce')\n",
    "\n",
    "# Drop any remaining NaN values\n",
    "aligned_market_returns_12m = aligned_market_returns_12m.dropna()\n",
    "\n",
    "# Convert to float\n",
    "aligned_market_returns_12m = aligned_market_returns_12m.astype(float)"
   ]
  },
  {
   "cell_type": "markdown",
   "metadata": {},
   "source": [
    "### Use PyPortfolioOpt to minimize tracking error vs. SPMO index"
   ]
  },
  {
   "cell_type": "code",
   "execution_count": 48,
   "metadata": {},
   "outputs": [
    {
     "name": "stderr",
     "output_type": "stream",
     "text": [
      "/home/codespace/.python/current/lib/python3.10/site-packages/numpy/lib/function_base.py:520: RuntimeWarning: Mean of empty slice.\n",
      "  avg = a.mean(axis, **keepdims_kw)\n",
      "/home/codespace/.python/current/lib/python3.10/site-packages/numpy/core/_methods.py:121: RuntimeWarning: invalid value encountered in divide\n",
      "  ret = um.true_divide(\n",
      "/home/codespace/.local/lib/python3.10/site-packages/pandas/core/frame.py:11211: RuntimeWarning: Degrees of freedom <= 0 for slice\n",
      "  base_cov = np.cov(mat.T, ddof=ddof)\n",
      "/home/codespace/.python/current/lib/python3.10/site-packages/numpy/lib/function_base.py:2748: RuntimeWarning: divide by zero encountered in divide\n",
      "  c *= np.true_divide(1, fact)\n",
      "/home/codespace/.python/current/lib/python3.10/site-packages/numpy/lib/function_base.py:2748: RuntimeWarning: invalid value encountered in multiply\n",
      "  c *= np.true_divide(1, fact)\n"
     ]
    },
    {
     "ename": "ValueError",
     "evalue": "operands could not be broadcast together with shapes (0,3) (0,) ",
     "output_type": "error",
     "traceback": [
      "\u001b[0;31m---------------------------------------------------------------------------\u001b[0m",
      "\u001b[0;31mValueError\u001b[0m                                Traceback (most recent call last)",
      "\u001b[1;32m/workspaces/Momentum-Jul-2024/ML portfolio.ipynb Cell 13\u001b[0m line \u001b[0;36m2\n\u001b[1;32m     <a href='vscode-notebook-cell://codespaces%2Borange-doodle-5rr7w4gppw6fv4gg/workspaces/Momentum-Jul-2024/ML%20portfolio.ipynb#X13sdnNjb2RlLXJlbW90ZQ%3D%3D?line=21'>22</a>\u001b[0m     \u001b[39mreturn\u001b[39;00m tracking_error(weights, aligned_market_returns_12m, aligned_spmo_returns_12m)\n\u001b[1;32m     <a href='vscode-notebook-cell://codespaces%2Borange-doodle-5rr7w4gppw6fv4gg/workspaces/Momentum-Jul-2024/ML%20portfolio.ipynb#X13sdnNjb2RlLXJlbW90ZQ%3D%3D?line=23'>24</a>\u001b[0m \u001b[39m# Add the custom objective to the Efficient Frontier\u001b[39;00m\n\u001b[0;32m---> <a href='vscode-notebook-cell://codespaces%2Borange-doodle-5rr7w4gppw6fv4gg/workspaces/Momentum-Jul-2024/ML%20portfolio.ipynb#X13sdnNjb2RlLXJlbW90ZQ%3D%3D?line=24'>25</a>\u001b[0m ef\u001b[39m.\u001b[39;49madd_objective(tracking_error_func)\n\u001b[1;32m     <a href='vscode-notebook-cell://codespaces%2Borange-doodle-5rr7w4gppw6fv4gg/workspaces/Momentum-Jul-2024/ML%20portfolio.ipynb#X13sdnNjb2RlLXJlbW90ZQ%3D%3D?line=26'>27</a>\u001b[0m \u001b[39m# Optimize the portfolio\u001b[39;00m\n\u001b[1;32m     <a href='vscode-notebook-cell://codespaces%2Borange-doodle-5rr7w4gppw6fv4gg/workspaces/Momentum-Jul-2024/ML%20portfolio.ipynb#X13sdnNjb2RlLXJlbW90ZQ%3D%3D?line=27'>28</a>\u001b[0m weights \u001b[39m=\u001b[39m ef\u001b[39m.\u001b[39mefficient_risk(target_risk\u001b[39m=\u001b[39m\u001b[39m0.1\u001b[39m)  \u001b[39m# Adjust the target risk as needed\u001b[39;00m\n",
      "File \u001b[0;32m~/.python/current/lib/python3.10/site-packages/pypfopt/base_optimizer.py:339\u001b[0m, in \u001b[0;36mBaseConvexOptimizer.add_objective\u001b[0;34m(self, new_objective, **kwargs)\u001b[0m\n\u001b[1;32m    334\u001b[0m \u001b[39mif\u001b[39;00m \u001b[39mself\u001b[39m\u001b[39m.\u001b[39m_opt \u001b[39mis\u001b[39;00m \u001b[39mnot\u001b[39;00m \u001b[39mNone\u001b[39;00m:\n\u001b[1;32m    335\u001b[0m     \u001b[39mraise\u001b[39;00m exceptions\u001b[39m.\u001b[39mInstantiationError(\n\u001b[1;32m    336\u001b[0m         \u001b[39m\"\u001b[39m\u001b[39mAdding objectives to an already solved problem might have unintended consequences. \u001b[39m\u001b[39m\"\u001b[39m\n\u001b[1;32m    337\u001b[0m         \u001b[39m\"\u001b[39m\u001b[39mA new instance should be created for the new set of objectives.\u001b[39m\u001b[39m\"\u001b[39m\n\u001b[1;32m    338\u001b[0m     )\n\u001b[0;32m--> 339\u001b[0m \u001b[39mself\u001b[39m\u001b[39m.\u001b[39m_additional_objectives\u001b[39m.\u001b[39mappend(new_objective(\u001b[39mself\u001b[39;49m\u001b[39m.\u001b[39;49m_w, \u001b[39m*\u001b[39;49m\u001b[39m*\u001b[39;49mkwargs))\n",
      "\u001b[1;32m/workspaces/Momentum-Jul-2024/ML portfolio.ipynb Cell 13\u001b[0m line \u001b[0;36m2\n\u001b[1;32m     <a href='vscode-notebook-cell://codespaces%2Borange-doodle-5rr7w4gppw6fv4gg/workspaces/Momentum-Jul-2024/ML%20portfolio.ipynb#X13sdnNjb2RlLXJlbW90ZQ%3D%3D?line=20'>21</a>\u001b[0m \u001b[39mdef\u001b[39;00m \u001b[39mtracking_error_func\u001b[39m(weights, target\u001b[39m=\u001b[39m\u001b[39mNone\u001b[39;00m, weight\u001b[39m=\u001b[39m\u001b[39mNone\u001b[39;00m):\n\u001b[0;32m---> <a href='vscode-notebook-cell://codespaces%2Borange-doodle-5rr7w4gppw6fv4gg/workspaces/Momentum-Jul-2024/ML%20portfolio.ipynb#X13sdnNjb2RlLXJlbW90ZQ%3D%3D?line=21'>22</a>\u001b[0m     \u001b[39mreturn\u001b[39;00m tracking_error(weights, aligned_market_returns_12m, aligned_spmo_returns_12m)\n",
      "\u001b[1;32m/workspaces/Momentum-Jul-2024/ML portfolio.ipynb Cell 13\u001b[0m line \u001b[0;36m9\n\u001b[1;32m      <a href='vscode-notebook-cell://codespaces%2Borange-doodle-5rr7w4gppw6fv4gg/workspaces/Momentum-Jul-2024/ML%20portfolio.ipynb#X13sdnNjb2RlLXJlbW90ZQ%3D%3D?line=5'>6</a>\u001b[0m portfolio_returns \u001b[39m=\u001b[39m np\u001b[39m.\u001b[39mdot(market_returns, weights)\n\u001b[1;32m      <a href='vscode-notebook-cell://codespaces%2Borange-doodle-5rr7w4gppw6fv4gg/workspaces/Momentum-Jul-2024/ML%20portfolio.ipynb#X13sdnNjb2RlLXJlbW90ZQ%3D%3D?line=7'>8</a>\u001b[0m \u001b[39m# Compute the tracking error\u001b[39;00m\n\u001b[0;32m----> <a href='vscode-notebook-cell://codespaces%2Borange-doodle-5rr7w4gppw6fv4gg/workspaces/Momentum-Jul-2024/ML%20portfolio.ipynb#X13sdnNjb2RlLXJlbW90ZQ%3D%3D?line=8'>9</a>\u001b[0m tracking_error_value \u001b[39m=\u001b[39m np\u001b[39m.\u001b[39msqrt(np\u001b[39m.\u001b[39mmean((portfolio_returns \u001b[39m-\u001b[39;49m spmo_returns)\u001b[39m*\u001b[39m\u001b[39m*\u001b[39m\u001b[39m2\u001b[39m))\n\u001b[1;32m     <a href='vscode-notebook-cell://codespaces%2Borange-doodle-5rr7w4gppw6fv4gg/workspaces/Momentum-Jul-2024/ML%20portfolio.ipynb#X13sdnNjb2RlLXJlbW90ZQ%3D%3D?line=10'>11</a>\u001b[0m \u001b[39mreturn\u001b[39;00m tracking_error_value\n",
      "File \u001b[0;32m~/.local/lib/python3.10/site-packages/pandas/core/generic.py:2171\u001b[0m, in \u001b[0;36mNDFrame.__array_ufunc__\u001b[0;34m(self, ufunc, method, *inputs, **kwargs)\u001b[0m\n\u001b[1;32m   2167\u001b[0m \u001b[39m@final\u001b[39m\n\u001b[1;32m   2168\u001b[0m \u001b[39mdef\u001b[39;00m \u001b[39m__array_ufunc__\u001b[39m(\n\u001b[1;32m   2169\u001b[0m     \u001b[39mself\u001b[39m, ufunc: np\u001b[39m.\u001b[39mufunc, method: \u001b[39mstr\u001b[39m, \u001b[39m*\u001b[39minputs: Any, \u001b[39m*\u001b[39m\u001b[39m*\u001b[39mkwargs: Any\n\u001b[1;32m   2170\u001b[0m ):\n\u001b[0;32m-> 2171\u001b[0m     \u001b[39mreturn\u001b[39;00m arraylike\u001b[39m.\u001b[39;49marray_ufunc(\u001b[39mself\u001b[39;49m, ufunc, method, \u001b[39m*\u001b[39;49minputs, \u001b[39m*\u001b[39;49m\u001b[39m*\u001b[39;49mkwargs)\n",
      "File \u001b[0;32m~/.local/lib/python3.10/site-packages/pandas/core/arraylike.py:276\u001b[0m, in \u001b[0;36marray_ufunc\u001b[0;34m(self, ufunc, method, *inputs, **kwargs)\u001b[0m\n\u001b[1;32m    273\u001b[0m kwargs \u001b[39m=\u001b[39m _standardize_out_kwarg(\u001b[39m*\u001b[39m\u001b[39m*\u001b[39mkwargs)\n\u001b[1;32m    275\u001b[0m \u001b[39m# for binary ops, use our custom dunder methods\u001b[39;00m\n\u001b[0;32m--> 276\u001b[0m result \u001b[39m=\u001b[39m maybe_dispatch_ufunc_to_dunder_op(\u001b[39mself\u001b[39;49m, ufunc, method, \u001b[39m*\u001b[39;49minputs, \u001b[39m*\u001b[39;49m\u001b[39m*\u001b[39;49mkwargs)\n\u001b[1;32m    277\u001b[0m \u001b[39mif\u001b[39;00m result \u001b[39mis\u001b[39;00m \u001b[39mnot\u001b[39;00m \u001b[39mNotImplemented\u001b[39m:\n\u001b[1;32m    278\u001b[0m     \u001b[39mreturn\u001b[39;00m result\n",
      "File \u001b[0;32mops_dispatch.pyx:113\u001b[0m, in \u001b[0;36mpandas._libs.ops_dispatch.maybe_dispatch_ufunc_to_dunder_op\u001b[0;34m()\u001b[0m\n",
      "File \u001b[0;32m~/.local/lib/python3.10/site-packages/pandas/core/ops/common.py:76\u001b[0m, in \u001b[0;36m_unpack_zerodim_and_defer.<locals>.new_method\u001b[0;34m(self, other)\u001b[0m\n\u001b[1;32m     72\u001b[0m             \u001b[39mreturn\u001b[39;00m \u001b[39mNotImplemented\u001b[39m\n\u001b[1;32m     74\u001b[0m other \u001b[39m=\u001b[39m item_from_zerodim(other)\n\u001b[0;32m---> 76\u001b[0m \u001b[39mreturn\u001b[39;00m method(\u001b[39mself\u001b[39;49m, other)\n",
      "File \u001b[0;32m~/.local/lib/python3.10/site-packages/pandas/core/arraylike.py:198\u001b[0m, in \u001b[0;36mOpsMixin.__rsub__\u001b[0;34m(self, other)\u001b[0m\n\u001b[1;32m    196\u001b[0m \u001b[39m@unpack_zerodim_and_defer\u001b[39m(\u001b[39m\"\u001b[39m\u001b[39m__rsub__\u001b[39m\u001b[39m\"\u001b[39m)\n\u001b[1;32m    197\u001b[0m \u001b[39mdef\u001b[39;00m \u001b[39m__rsub__\u001b[39m(\u001b[39mself\u001b[39m, other):\n\u001b[0;32m--> 198\u001b[0m     \u001b[39mreturn\u001b[39;00m \u001b[39mself\u001b[39;49m\u001b[39m.\u001b[39;49m_arith_method(other, roperator\u001b[39m.\u001b[39;49mrsub)\n",
      "File \u001b[0;32m~/.local/lib/python3.10/site-packages/pandas/core/series.py:6135\u001b[0m, in \u001b[0;36mSeries._arith_method\u001b[0;34m(self, other, op)\u001b[0m\n\u001b[1;32m   6133\u001b[0m \u001b[39mdef\u001b[39;00m \u001b[39m_arith_method\u001b[39m(\u001b[39mself\u001b[39m, other, op):\n\u001b[1;32m   6134\u001b[0m     \u001b[39mself\u001b[39m, other \u001b[39m=\u001b[39m \u001b[39mself\u001b[39m\u001b[39m.\u001b[39m_align_for_op(other)\n\u001b[0;32m-> 6135\u001b[0m     \u001b[39mreturn\u001b[39;00m base\u001b[39m.\u001b[39;49mIndexOpsMixin\u001b[39m.\u001b[39;49m_arith_method(\u001b[39mself\u001b[39;49m, other, op)\n",
      "File \u001b[0;32m~/.local/lib/python3.10/site-packages/pandas/core/base.py:1382\u001b[0m, in \u001b[0;36mIndexOpsMixin._arith_method\u001b[0;34m(self, other, op)\u001b[0m\n\u001b[1;32m   1379\u001b[0m     rvalues \u001b[39m=\u001b[39m np\u001b[39m.\u001b[39marange(rvalues\u001b[39m.\u001b[39mstart, rvalues\u001b[39m.\u001b[39mstop, rvalues\u001b[39m.\u001b[39mstep)\n\u001b[1;32m   1381\u001b[0m \u001b[39mwith\u001b[39;00m np\u001b[39m.\u001b[39merrstate(\u001b[39mall\u001b[39m\u001b[39m=\u001b[39m\u001b[39m\"\u001b[39m\u001b[39mignore\u001b[39m\u001b[39m\"\u001b[39m):\n\u001b[0;32m-> 1382\u001b[0m     result \u001b[39m=\u001b[39m ops\u001b[39m.\u001b[39;49marithmetic_op(lvalues, rvalues, op)\n\u001b[1;32m   1384\u001b[0m \u001b[39mreturn\u001b[39;00m \u001b[39mself\u001b[39m\u001b[39m.\u001b[39m_construct_result(result, name\u001b[39m=\u001b[39mres_name)\n",
      "File \u001b[0;32m~/.local/lib/python3.10/site-packages/pandas/core/ops/array_ops.py:283\u001b[0m, in \u001b[0;36marithmetic_op\u001b[0;34m(left, right, op)\u001b[0m\n\u001b[1;32m    279\u001b[0m     _bool_arith_check(op, left, right)  \u001b[39m# type: ignore[arg-type]\u001b[39;00m\n\u001b[1;32m    281\u001b[0m     \u001b[39m# error: Argument 1 to \"_na_arithmetic_op\" has incompatible type\u001b[39;00m\n\u001b[1;32m    282\u001b[0m     \u001b[39m# \"Union[ExtensionArray, ndarray[Any, Any]]\"; expected \"ndarray[Any, Any]\"\u001b[39;00m\n\u001b[0;32m--> 283\u001b[0m     res_values \u001b[39m=\u001b[39m _na_arithmetic_op(left, right, op)  \u001b[39m# type: ignore[arg-type]\u001b[39;00m\n\u001b[1;32m    285\u001b[0m \u001b[39mreturn\u001b[39;00m res_values\n",
      "File \u001b[0;32m~/.local/lib/python3.10/site-packages/pandas/core/ops/array_ops.py:218\u001b[0m, in \u001b[0;36m_na_arithmetic_op\u001b[0;34m(left, right, op, is_cmp)\u001b[0m\n\u001b[1;32m    215\u001b[0m     func \u001b[39m=\u001b[39m partial(expressions\u001b[39m.\u001b[39mevaluate, op)\n\u001b[1;32m    217\u001b[0m \u001b[39mtry\u001b[39;00m:\n\u001b[0;32m--> 218\u001b[0m     result \u001b[39m=\u001b[39m func(left, right)\n\u001b[1;32m    219\u001b[0m \u001b[39mexcept\u001b[39;00m \u001b[39mTypeError\u001b[39;00m:\n\u001b[1;32m    220\u001b[0m     \u001b[39mif\u001b[39;00m \u001b[39mnot\u001b[39;00m is_cmp \u001b[39mand\u001b[39;00m (\n\u001b[1;32m    221\u001b[0m         left\u001b[39m.\u001b[39mdtype \u001b[39m==\u001b[39m \u001b[39mobject\u001b[39m \u001b[39mor\u001b[39;00m \u001b[39mgetattr\u001b[39m(right, \u001b[39m\"\u001b[39m\u001b[39mdtype\u001b[39m\u001b[39m\"\u001b[39m, \u001b[39mNone\u001b[39;00m) \u001b[39m==\u001b[39m \u001b[39mobject\u001b[39m\n\u001b[1;32m    222\u001b[0m     ):\n\u001b[0;32m   (...)\u001b[0m\n\u001b[1;32m    225\u001b[0m         \u001b[39m# Don't do this for comparisons, as that will handle complex numbers\u001b[39;00m\n\u001b[1;32m    226\u001b[0m         \u001b[39m#  incorrectly, see GH#32047\u001b[39;00m\n",
      "File \u001b[0;32m~/.local/lib/python3.10/site-packages/pandas/core/computation/expressions.py:242\u001b[0m, in \u001b[0;36mevaluate\u001b[0;34m(op, a, b, use_numexpr)\u001b[0m\n\u001b[1;32m    239\u001b[0m \u001b[39mif\u001b[39;00m op_str \u001b[39mis\u001b[39;00m \u001b[39mnot\u001b[39;00m \u001b[39mNone\u001b[39;00m:\n\u001b[1;32m    240\u001b[0m     \u001b[39mif\u001b[39;00m use_numexpr:\n\u001b[1;32m    241\u001b[0m         \u001b[39m# error: \"None\" not callable\u001b[39;00m\n\u001b[0;32m--> 242\u001b[0m         \u001b[39mreturn\u001b[39;00m _evaluate(op, op_str, a, b)  \u001b[39m# type: ignore[misc]\u001b[39;00m\n\u001b[1;32m    243\u001b[0m \u001b[39mreturn\u001b[39;00m _evaluate_standard(op, op_str, a, b)\n",
      "File \u001b[0;32m~/.local/lib/python3.10/site-packages/pandas/core/computation/expressions.py:73\u001b[0m, in \u001b[0;36m_evaluate_standard\u001b[0;34m(op, op_str, a, b)\u001b[0m\n\u001b[1;32m     71\u001b[0m \u001b[39mif\u001b[39;00m _TEST_MODE:\n\u001b[1;32m     72\u001b[0m     _store_test_result(\u001b[39mFalse\u001b[39;00m)\n\u001b[0;32m---> 73\u001b[0m \u001b[39mreturn\u001b[39;00m op(a, b)\n",
      "File \u001b[0;32m~/.local/lib/python3.10/site-packages/pandas/core/roperator.py:15\u001b[0m, in \u001b[0;36mrsub\u001b[0;34m(left, right)\u001b[0m\n\u001b[1;32m     14\u001b[0m \u001b[39mdef\u001b[39;00m \u001b[39mrsub\u001b[39m(left, right):\n\u001b[0;32m---> 15\u001b[0m     \u001b[39mreturn\u001b[39;00m right \u001b[39m-\u001b[39;49m left\n",
      "\u001b[0;31mValueError\u001b[0m: operands could not be broadcast together with shapes (0,3) (0,) "
     ]
    }
   ],
   "source": [
    "import numpy as np\n",
    "from pypfopt import expected_returns, risk_models, EfficientFrontier\n",
    "\n",
    "def tracking_error(weights, market_returns, spmo_returns):\n",
    "    # Compute the portfolio returns for each time period\n",
    "    portfolio_returns = np.dot(market_returns, weights)\n",
    "    \n",
    "    # Compute the tracking error\n",
    "    tracking_error_value = np.sqrt(np.mean((portfolio_returns - spmo_returns)**2))\n",
    "    \n",
    "    return tracking_error_value\n",
    "\n",
    "# Calculate expected returns and sample covariance matrix\n",
    "mu = expected_returns.mean_historical_return(aligned_market_returns_12m)\n",
    "S = risk_models.sample_cov(aligned_market_returns_12m)\n",
    "\n",
    "# Initialize the Efficient Frontier\n",
    "ef = EfficientFrontier(mu, S)\n",
    "\n",
    "# Define the tracking error function\n",
    "def tracking_error_func(weights, target=None, weight=None):\n",
    "    return tracking_error(weights, aligned_market_returns_12m, aligned_spmo_returns_12m)\n",
    "\n",
    "# Add the custom objective to the Efficient Frontier\n",
    "ef.add_objective(tracking_error_func)\n",
    "\n",
    "# Optimize the portfolio\n",
    "weights = ef.efficient_risk(target_risk=0.1)  # Adjust the target risk as needed\n",
    "\n",
    "# Get the optimized weights\n",
    "cleaned_weights = ef.clean_weights()\n",
    "\n",
    "# Print the optimized weights\n",
    "print(\"Optimized Portfolio Weights:\")\n",
    "for asset, weight in cleaned_weights.items():\n",
    "    print(f\"{asset}: {weight:.4f}\")\n",
    "\n",
    "# Calculate and print portfolio performance\n",
    "performance = ef.portfolio_performance(verbose=True)"
   ]
  },
  {
   "cell_type": "code",
   "execution_count": null,
   "metadata": {},
   "outputs": [],
   "source": [
    "cleaned_weights = ef.clean_weights()\n",
    "cleaned_weights"
   ]
  },
  {
   "cell_type": "code",
   "execution_count": null,
   "metadata": {},
   "outputs": [],
   "source": [
    "performance = ef.portfolio_performance(verbose=True)\n",
    "performance"
   ]
  },
  {
   "cell_type": "code",
   "execution_count": null,
   "metadata": {},
   "outputs": [],
   "source": []
  }
 ],
 "metadata": {
  "language_info": {
   "name": "python"
  }
 },
 "nbformat": 4,
 "nbformat_minor": 2
}
